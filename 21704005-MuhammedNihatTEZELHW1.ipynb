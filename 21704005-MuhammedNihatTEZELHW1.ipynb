{
 "cells": [
  {
   "cell_type": "code",
   "execution_count": 6,
   "metadata": {},
   "outputs": [
    {
     "name": "stdout",
     "output_type": "stream",
     "text": [
      " Enter a value 2\n",
      " Enter b value 3\n",
      " Enter c value 4\n",
      " Your value set , respectively:  2 3 4\n",
      " Your discriminant is :  -23\n",
      "(-2.9999999999999996+4.795831523312719j)\n",
      "(-3.0000000000000004-4.795831523312719j)\n"
     ]
    }
   ],
   "source": [
    "value1 = int(input(\" Enter a value \"))\n",
    "value2 = int(input(\" Enter b value \"))\n",
    "value3 = int(input(\" Enter c value \"))\n",
    "\n",
    "print(' Your value set , respectively: ', value1, value2, value3)\n",
    "discriminant=(value2**2-4*value1*value3)\n",
    "print(' Your discriminant is : ', discriminant)\n",
    "x1=((-value2+discriminant**0.5)/2*value1)\n",
    "print(x1)\n",
    "x2=((-value2-discriminant**0.5)/2*value1)\n",
    "print(x2)"
   ]
  },
  {
   "cell_type": "code",
   "execution_count": null,
   "metadata": {},
   "outputs": [],
   "source": []
  },
  {
   "cell_type": "code",
   "execution_count": null,
   "metadata": {},
   "outputs": [],
   "source": []
  }
 ],
 "metadata": {
  "kernelspec": {
   "display_name": "Python 3",
   "language": "python",
   "name": "python3"
  },
  "language_info": {
   "codemirror_mode": {
    "name": "ipython",
    "version": 3
   },
   "file_extension": ".py",
   "mimetype": "text/x-python",
   "name": "python",
   "nbconvert_exporter": "python",
   "pygments_lexer": "ipython3",
   "version": "3.6.5"
  }
 },
 "nbformat": 4,
 "nbformat_minor": 2
}
