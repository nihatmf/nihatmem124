{
 "cells": [
  {
   "cell_type": "code",
   "execution_count": 46,
   "metadata": {},
   "outputs": [
    {
     "name": "stdout",
     "output_type": "stream",
     "text": [
      " Enter a value 1\n",
      " Enter b value 8\n",
      " Enter c value 4\n",
      " Your value set , respectively:  1 8 4\n",
      " Your discriminant mean is :  48\n",
      "-0.5358983848622456\n",
      "-7.464101615137754\n"
     ]
    }
   ],
   "source": [
    "value1 = int(input(\" Enter a value \"))\n",
    "value2 = int(input(\" Enter b value \"))\n",
    "value3 = int(input(\" Enter c value \"))\n",
    "x=\"unknowledge\"\n",
    "function=\"((a*x)**2+(b*x)+c)\"\n",
    "print(' Your value set , respectively: ', value1, value2, value3)\n",
    "discriminant=(value2**2-4*value1*value3)\n",
    "print(' Your discriminant mean is : ', discriminant)\n",
    "x1=((-value2+discriminant**0.5)/2*value1)\n",
    "print(x1)\n",
    "x2=((-value2-discriminant**0.5)/2*value1)\n",
    "print(x2)"
   ]
  }
 ],
 "metadata": {
  "kernelspec": {
   "display_name": "Python 3",
   "language": "python",
   "name": "python3"
  },
  "language_info": {
   "codemirror_mode": {
    "name": "ipython",
    "version": 3
   },
   "file_extension": ".py",
   "mimetype": "text/x-python",
   "name": "python",
   "nbconvert_exporter": "python",
   "pygments_lexer": "ipython3",
   "version": "3.6.5"
  }
 },
 "nbformat": 4,
 "nbformat_minor": 2
}
